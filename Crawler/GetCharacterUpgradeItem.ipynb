{
 "cells": [
  {
   "cell_type": "markdown",
   "id": "4b9e46a3",
   "metadata": {},
   "source": [
    "# CharacterList要有資料\n",
    "## 如CharacterList無資料請先執行GetCharacterList取得角色清單"
   ]
  },
  {
   "cell_type": "code",
   "execution_count": 432,
   "id": "db7894df",
   "metadata": {},
   "outputs": [],
   "source": [
    "import configparser\n",
    "from Tool import CrawlerTool\n",
    "from Tool import JSONTool"
   ]
  },
  {
   "cell_type": "code",
   "execution_count": 433,
   "id": "beee2508",
   "metadata": {},
   "outputs": [],
   "source": [
    "characterUpgradeItemList = []\n",
    "\n",
    "# 讀取config設定\n",
    "config = configparser.ConfigParser()\n",
    "config.read('config.ini')\n",
    "\n",
    "characterListFilePath = config['JSONPath']['CharacterList']\n",
    "characterUpgradeItemListPath = config['JSONPath']['CharacterUpgradeItemList']"
   ]
  },
  {
   "cell_type": "code",
   "execution_count": 434,
   "id": "4acfa96f",
   "metadata": {},
   "outputs": [],
   "source": [
    "def GetUpgradeItem(area, itemType, characterName, ratio = 1):\n",
    "    itemList = []\n",
    "    item = None\n",
    "\n",
    "    for span in area.find_all(\"span\"):                                                              # 找到此區域所有span區塊\n",
    "        if span.find(\"span\", class_ = \"card-body\") and \"card-list-container\" not in span[\"class\"]:  # 如果這個span class是card-body\n",
    "            itemTag = span.find(\"a\", title = True)                                                  # 從span區快中找出第一個 <a> 標籤，且該標籤有title屬性的元素\n",
    "            item = itemTag[\"title\"] if itemTag else None                                            # 取得a的title\n",
    "\n",
    "            valueTag = span.find(\"span\", class_ = \"card-text card-font\")                            # 找到此span區塊裡class = card-text card-font的子span\n",
    "            value = valueTag.get_text(strip = True) if valueTag else None                           # 取得子span值\n",
    "            value = int(value.replace(\",\", \"\"))\n",
    "            \n",
    "            if value is not None:\n",
    "                itemList.append({\"Character\": characterName, \"ItemType\": itemType, \"Item\": item, \"Value\": value * ratio})\n",
    "\n",
    "    return itemList"
   ]
  },
  {
   "cell_type": "code",
   "execution_count": 435,
   "id": "55117440",
   "metadata": {},
   "outputs": [],
   "source": [
    "characterList = JSONTool.Read(characterListFilePath)\n",
    "#character = characterList[0]\n",
    "for character in characterList:\n",
    "    #取得角色頁面資訊\n",
    "    soup = CrawlerTool.GetScop(character[\"Link\"])\n",
    "\n",
    "    itemList = []\n",
    "\n",
    "    area = None\n",
    "\n",
    "    #===============================等級提升素材===============================\n",
    "    for span in soup.find_all(\"span\"):\n",
    "        # 確保沒有 class 或 id 屬性\n",
    "        if not span.has_attr(\"class\") and not span.has_attr(\"id\"):\n",
    "            # 檢查文字是否包含目標內容\n",
    "            if \"(0✦ → 6✦)\" in span.get_text(strip=True):\n",
    "                area = span\n",
    "                break\n",
    "\n",
    "    itemList += GetUpgradeItem(area, \"等級提升素材\", character[\"Name\"])\n",
    "    #===============================等級提升素材===============================\n",
    "\n",
    "    #===============================技能提升素材===============================\n",
    "    for div in soup.find_all(\"div\"):\n",
    "        # 確保沒有 class 或 id 屬性\n",
    "        if not div.has_attr(\"class\") and not div.has_attr(\"id\"):\n",
    "            # 檢查文字是否包含目標內容\n",
    "            if \"(1 → 10 for One Main Forte)\" in div.get_text(strip=True):\n",
    "                area = div\n",
    "                break\n",
    "\n",
    "    itemList += GetUpgradeItem(area, \"技能提升素材\", character[\"Name\"], 5)\n",
    "    #===============================技能提升素材===============================\n",
    "\n",
    "    #===============================固有技能提升素材===========================\n",
    "    for div in soup.find_all(\"div\"):\n",
    "        # 確保沒有 class 或 id 屬性\n",
    "        if not div.has_attr(\"class\") and not div.has_attr(\"id\"):\n",
    "            # 檢查文字是否包含目標內容\n",
    "            if \"(1 → 2 for All Inherent Skill)\" in div.get_text(strip=True):\n",
    "                area = div\n",
    "                break\n",
    "\n",
    "    itemList += GetUpgradeItem(area, \"固有技能提升素材\", character[\"Name\"])\n",
    "    #===============================固有技能提升素材===========================\n",
    "\n",
    "    #===============================屬性提升素材===============================\n",
    "    for div in soup.find_all(\"div\"):\n",
    "        # 確保沒有 class 或 id 屬性\n",
    "        if not div.has_attr(\"class\") and not div.has_attr(\"id\"):\n",
    "            # 檢查文字是否包含目標內容\n",
    "            if \"(1 → 2 for One Strand of Stat Bonus)\" in div.get_text(strip=True):\n",
    "                area = div\n",
    "                break\n",
    "\n",
    "    itemList += GetUpgradeItem(area, \"屬性提升素材\", character[\"Name\"], 4)\n",
    "    #===============================屬性提升素材===============================\n",
    "\n",
    "    characterUpgradeItemList.append(itemList)\n",
    "\n",
    "\n"
   ]
  },
  {
   "cell_type": "code",
   "execution_count": 436,
   "id": "7d696e5a",
   "metadata": {},
   "outputs": [],
   "source": [
    "#print(characterUpgradeItemList)\n",
    "JSONTool.Write(characterUpgradeItemListPath, characterUpgradeItemList)"
   ]
  }
 ],
 "metadata": {
  "kernelspec": {
   "display_name": "WutheringWaves",
   "language": "python",
   "name": "python3"
  },
  "language_info": {
   "codemirror_mode": {
    "name": "ipython",
    "version": 3
   },
   "file_extension": ".py",
   "mimetype": "text/x-python",
   "name": "python",
   "nbconvert_exporter": "python",
   "pygments_lexer": "ipython3",
   "version": "3.12.9"
  }
 },
 "nbformat": 4,
 "nbformat_minor": 5
}
