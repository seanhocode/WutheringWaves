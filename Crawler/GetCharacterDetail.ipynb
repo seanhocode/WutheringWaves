{
 "cells": [
  {
   "cell_type": "markdown",
   "id": "4b9e46a3",
   "metadata": {},
   "source": [
    "# 請先執行GetCharacterList"
   ]
  },
  {
   "cell_type": "code",
   "execution_count": 1,
   "id": "db7894df",
   "metadata": {},
   "outputs": [],
   "source": [
    "import configparser\n",
    "from Tool import CrawlerTool\n",
    "from Tool import JSONTool"
   ]
  },
  {
   "cell_type": "code",
   "execution_count": 2,
   "id": "beee2508",
   "metadata": {},
   "outputs": [],
   "source": [
    "characterDetailList = []\n",
    "\n",
    "# 讀取config設定\n",
    "config = configparser.ConfigParser()\n",
    "config.read('config.ini')\n",
    "\n",
    "characterListFilePath = config['JSONPath']['CharacterList']\n",
    "CharacterDetailListFilePath = config['JSONPath']['CharacterDetailList']"
   ]
  },
  {
   "cell_type": "code",
   "execution_count": 3,
   "id": "4acfa96f",
   "metadata": {},
   "outputs": [],
   "source": [
    "def GetDetail(characterDetails, characterName):\n",
    "    ChatracterDetail = []\n",
    "\n",
    "    for detail in characterDetails:\n",
    "        itemTag = detail.find(\"a\", title = True)\n",
    "        #[值1] if [條件] else [值2]\n",
    "        #如果「條件」為 True，就回傳「值1」，否則回傳「值2」\n",
    "        item = itemTag[\"title\"] if itemTag else None\n",
    "\n",
    "        valueTag = detail.find(\"span\", class_ = \"card-text card-font\")\n",
    "        value = valueTag.get_text(strip = True) if valueTag else None\n",
    "\n",
    "        if value is not None:\n",
    "            ChatracterDetail.append({\"Character\": characterName, \"Item\": item, \"Value\": value})\n",
    "\n",
    "    return ChatracterDetail"
   ]
  },
  {
   "cell_type": "code",
   "execution_count": 4,
   "id": "55117440",
   "metadata": {},
   "outputs": [],
   "source": [
    "characterList = JSONTool.Read(characterListFilePath)\n",
    "\n",
    "\n",
    "for character in characterList:\n",
    "    #取得角色頁面資訊\n",
    "    scop = CrawlerTool.GetScop(character[\"Link\"])\n",
    "\n",
    "    # 抓素材區塊\n",
    "    characterDetails = scop.select(\".card-list-container .card-container .card-wrapper .card-body\")\n",
    "    #print(characterDetails)\n",
    "\n",
    "    characterDetailList.append(GetDetail(characterDetails, character[\"Name\"]))"
   ]
  },
  {
   "cell_type": "code",
   "execution_count": 5,
   "id": "7d696e5a",
   "metadata": {},
   "outputs": [],
   "source": [
    "JSONTool.Write(CharacterDetailListFilePath, characterDetailList)"
   ]
  }
 ],
 "metadata": {
  "kernelspec": {
   "display_name": "Python 3",
   "language": "python",
   "name": "python3"
  },
  "language_info": {
   "codemirror_mode": {
    "name": "ipython",
    "version": 3
   },
   "file_extension": ".py",
   "mimetype": "text/x-python",
   "name": "python",
   "nbconvert_exporter": "python",
   "pygments_lexer": "ipython3",
   "version": "3.12.4"
  }
 },
 "nbformat": 4,
 "nbformat_minor": 5
}
