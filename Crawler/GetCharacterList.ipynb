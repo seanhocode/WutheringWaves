{
 "cells": [
  {
   "cell_type": "code",
   "execution_count": null,
   "id": "dd3fd29a",
   "metadata": {},
   "outputs": [
    {
     "data": {
      "text/plain": [
       "['config.ini']"
      ]
     },
     "execution_count": 30,
     "metadata": {},
     "output_type": "execute_result"
    }
   ],
   "source": [
    "import configparser\n",
    "from Tool import CrawlerTool\n",
    "from Tool import JSONTool"
   ]
  },
  {
   "cell_type": "code",
   "execution_count": null,
   "id": "dbdad787",
   "metadata": {},
   "outputs": [],
   "source": [
    "characterList = []\n",
    "dataList = []\n",
    "\n",
    "config = configparser.ConfigParser()\n",
    "config.read('config.ini')\n",
    "\n",
    "characterListFilePath = config['JSONPath']['CharacterList']\n",
    "\n",
    "characterListUrl = config['Url']['CharacterList']\n",
    "characterDataBaseUrl = config['Url']['CharacterDataBase']"
   ]
  },
  {
   "cell_type": "code",
   "execution_count": 32,
   "id": "a81416a8",
   "metadata": {},
   "outputs": [],
   "source": [
    "soup = CrawlerTool.GetScop(characterListUrl)\n",
    "# 抓角色區塊\n",
    "characters = soup.select(\".article-table.sortable.alternating-colors-table tbody tr td a[title][href]\")\n",
    "#print(characters)\n",
    "\n",
    "for character in characters:\n",
    "    # 只保留「純文字」的 a（沒有子元素）\n",
    "    if character.string and character.string.strip():\n",
    "        name = character.get(\"title\")\n",
    "        link = characterDataBaseUrl + character.get(\"href\")\n",
    "        dataList.append({\"Name\": name, \"Link\": link})"
   ]
  },
  {
   "cell_type": "code",
   "execution_count": 33,
   "id": "6a4ba059",
   "metadata": {},
   "outputs": [],
   "source": [
    "#print(dataList)\n",
    "count = 0\n",
    "for data in dataList:\n",
    "    count += 1\n",
    "    if count > 2000:\n",
    "        break\n",
    "    soup = CrawlerTool.GetScop(data[\"Link\"])\n",
    "\n",
    "    if \"playable\" in soup.get_text():\n",
    "        characterList.append(data)\n",
    "    else:\n",
    "        continue"
   ]
  },
  {
   "cell_type": "code",
   "execution_count": 34,
   "id": "2960d5f3",
   "metadata": {},
   "outputs": [
    {
     "name": "stdout",
     "output_type": "stream",
     "text": [
      "[{'Name': 'Aalto', 'Link': 'https://wutheringwaves.fandom.com/wiki/Aalto'}, {'Name': 'Baizhi', 'Link': 'https://wutheringwaves.fandom.com/wiki/Baizhi'}, {'Name': 'Brant', 'Link': 'https://wutheringwaves.fandom.com/wiki/Brant'}, {'Name': 'Calcharo', 'Link': 'https://wutheringwaves.fandom.com/wiki/Calcharo'}, {'Name': 'Camellya', 'Link': 'https://wutheringwaves.fandom.com/wiki/Camellya'}, {'Name': 'Cantarella', 'Link': 'https://wutheringwaves.fandom.com/wiki/Cantarella'}, {'Name': 'Carlotta', 'Link': 'https://wutheringwaves.fandom.com/wiki/Carlotta'}, {'Name': 'Changli', 'Link': 'https://wutheringwaves.fandom.com/wiki/Changli'}, {'Name': 'Chixia', 'Link': 'https://wutheringwaves.fandom.com/wiki/Chixia'}, {'Name': 'Danjin', 'Link': 'https://wutheringwaves.fandom.com/wiki/Danjin'}, {'Name': 'Encore', 'Link': 'https://wutheringwaves.fandom.com/wiki/Encore'}, {'Name': 'Jianxin', 'Link': 'https://wutheringwaves.fandom.com/wiki/Jianxin'}, {'Name': 'Jinhsi', 'Link': 'https://wutheringwaves.fandom.com/wiki/Jinhsi'}, {'Name': 'Jiyan', 'Link': 'https://wutheringwaves.fandom.com/wiki/Jiyan'}, {'Name': 'Lingyang', 'Link': 'https://wutheringwaves.fandom.com/wiki/Lingyang'}, {'Name': 'Lumi', 'Link': 'https://wutheringwaves.fandom.com/wiki/Lumi'}, {'Name': 'Mortefi', 'Link': 'https://wutheringwaves.fandom.com/wiki/Mortefi'}, {'Name': 'Phoebe', 'Link': 'https://wutheringwaves.fandom.com/wiki/Phoebe'}, {'Name': 'Roccia', 'Link': 'https://wutheringwaves.fandom.com/wiki/Roccia'}, {'Name': 'Sanhua', 'Link': 'https://wutheringwaves.fandom.com/wiki/Sanhua'}, {'Name': 'Shorekeeper', 'Link': 'https://wutheringwaves.fandom.com/wiki/Shorekeeper'}, {'Name': 'Taoqi', 'Link': 'https://wutheringwaves.fandom.com/wiki/Taoqi'}, {'Name': 'Verina', 'Link': 'https://wutheringwaves.fandom.com/wiki/Verina'}, {'Name': 'Xiangli Yao', 'Link': 'https://wutheringwaves.fandom.com/wiki/Xiangli_Yao'}, {'Name': 'Yangyang', 'Link': 'https://wutheringwaves.fandom.com/wiki/Yangyang'}, {'Name': 'Yinlin', 'Link': 'https://wutheringwaves.fandom.com/wiki/Yinlin'}, {'Name': 'Youhu', 'Link': 'https://wutheringwaves.fandom.com/wiki/Youhu'}, {'Name': 'Yuanwu', 'Link': 'https://wutheringwaves.fandom.com/wiki/Yuanwu'}, {'Name': 'Zani', 'Link': 'https://wutheringwaves.fandom.com/wiki/Zani'}, {'Name': 'Zhezhi', 'Link': 'https://wutheringwaves.fandom.com/wiki/Zhezhi'}]\n"
     ]
    }
   ],
   "source": [
    "JSONTool.Write(characterListFilePath, characterList)"
   ]
  }
 ],
 "metadata": {
  "kernelspec": {
   "display_name": "Python 3",
   "language": "python",
   "name": "python3"
  },
  "language_info": {
   "codemirror_mode": {
    "name": "ipython",
    "version": 3
   },
   "file_extension": ".py",
   "mimetype": "text/x-python",
   "name": "python",
   "nbconvert_exporter": "python",
   "pygments_lexer": "ipython3",
   "version": "3.12.4"
  }
 },
 "nbformat": 4,
 "nbformat_minor": 5
}
