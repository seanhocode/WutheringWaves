{
 "cells": [
  {
   "cell_type": "markdown",
   "id": "e489c424",
   "metadata": {},
   "source": [
    "# Initial Import"
   ]
  },
  {
   "cell_type": "code",
   "execution_count": null,
   "id": "4c31098a",
   "metadata": {},
   "outputs": [],
   "source": [
    "from Tool import CrawlerTool\n",
    "from Tool import JSONTool\n",
    "import configparser"
   ]
  },
  {
   "cell_type": "markdown",
   "id": "80990125",
   "metadata": {},
   "source": [
    "# Config"
   ]
  },
  {
   "cell_type": "code",
   "execution_count": null,
   "id": "07457669",
   "metadata": {},
   "outputs": [],
   "source": [
    "# 讀取config設定\n",
    "config = configparser.ConfigParser()\n",
    "config.read('config.ini')\n",
    "\n",
    "characterListUrl = config['Url']['CharacterList']\n",
    "characterDataBaseUrl = config['Url']['CharacterDataBase']\n",
    "\n",
    "characterListPath = config['JSONPath']['CharacterList']\n",
    "CharacterUpgradeItemListPath = config['JSONPath']['CharacterUpgradeItemList']\n",
    "CharacterTotalUpgradeItemListPath = config['JSONPath']['CharacterTotalUpgradeItemList']"
   ]
  },
  {
   "cell_type": "markdown",
   "id": "a72c1522",
   "metadata": {},
   "source": [
    "# 開發區"
   ]
  },
  {
   "cell_type": "code",
   "execution_count": null,
   "id": "e4137a84",
   "metadata": {},
   "outputs": [],
   "source": [
    "def GetCharacterUpgradeItemDetailList(characterListPath):\n",
    "    characterList = JSONTool.Read(characterListPath)\n",
    "\n",
    "    i = 0\n",
    "\n",
    "    for character in characterList:\n",
    "        if i == 1:\n",
    "            break\n",
    "\n",
    "        soup = CrawlerTool.GetScop(character[\"Link\"] + \"/Combat\")\n",
    "        print(soup)\n",
    "\n",
    "        i += 1"
   ]
  },
  {
   "cell_type": "code",
   "execution_count": null,
   "id": "c0d2a655",
   "metadata": {},
   "outputs": [],
   "source": [
    "GetCharacterUpgradeItemDetailList(characterListPath)"
   ]
  }
 ],
 "metadata": {
  "kernelspec": {
   "display_name": "Python 3",
   "language": "python",
   "name": "python3"
  },
  "language_info": {
   "codemirror_mode": {
    "name": "ipython",
    "version": 3
   },
   "file_extension": ".py",
   "mimetype": "text/x-python",
   "name": "python",
   "nbconvert_exporter": "python",
   "pygments_lexer": "ipython3",
   "version": "3.12.4"
  }
 },
 "nbformat": 4,
 "nbformat_minor": 5
}
