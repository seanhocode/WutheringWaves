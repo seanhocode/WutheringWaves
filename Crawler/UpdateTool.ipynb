{
 "cells": [
  {
   "cell_type": "code",
   "execution_count": null,
   "id": "4c31098a",
   "metadata": {},
   "outputs": [],
   "source": [
    "from Tool import CrawlerTool\n",
    "from Tool import JSONTool"
   ]
  },
  {
   "cell_type": "code",
   "execution_count": null,
   "id": "07457669",
   "metadata": {},
   "outputs": [],
   "source": []
  }
 ],
 "metadata": {
  "language_info": {
   "name": "python"
  }
 },
 "nbformat": 4,
 "nbformat_minor": 5
}
