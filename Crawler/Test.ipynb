{
 "cells": [
  {
   "cell_type": "code",
   "execution_count": null,
   "id": "fb4cb98a",
   "metadata": {},
   "outputs": [],
   "source": [
    "import configparser\n",
    "from Tool import CrawlerTool\n",
    "from Tool import JSONTool"
   ]
  },
  {
   "cell_type": "code",
   "execution_count": null,
   "id": "1ed2b2d0",
   "metadata": {},
   "outputs": [],
   "source": [
    "# 讀取config設定\n",
    "config = configparser.ConfigParser()\n",
    "config.read('config.ini')\n",
    "characterListFilePath = config['JSONPath']['CharacterList']\n",
    "CharacterDetailListFilePath = config['JSONPath']['CharacterDetailList']"
   ]
  }
 ],
 "metadata": {
  "language_info": {
   "name": "python"
  }
 },
 "nbformat": 4,
 "nbformat_minor": 5
}
