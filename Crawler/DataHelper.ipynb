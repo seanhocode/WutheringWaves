{
 "cells": [
  {
   "cell_type": "markdown",
   "id": "eb4ad9b5",
   "metadata": {},
   "source": [
    "# Start"
   ]
  },
  {
   "cell_type": "markdown",
   "id": "5c460a4f",
   "metadata": {},
   "source": [
    "## Import Library"
   ]
  },
  {
   "cell_type": "code",
   "execution_count": 10,
   "id": "fb4cb98a",
   "metadata": {},
   "outputs": [],
   "source": [
    "import configparser\n",
    "from Tool import DataTool\n",
    "from Tool import UpdateTool"
   ]
  },
  {
   "cell_type": "markdown",
   "id": "37d361d2",
   "metadata": {},
   "source": [
    "## Config設定區"
   ]
  },
  {
   "cell_type": "code",
   "execution_count": 11,
   "id": "1ed2b2d0",
   "metadata": {},
   "outputs": [],
   "source": [
    "# 讀取config設定\n",
    "config = configparser.ConfigParser()\n",
    "config.read('config.ini')\n",
    "\n",
    "characterListUrl = config['Url']['CharacterList']\n",
    "characterDataBaseUrl = config['Url']['CharacterDataBase']\n",
    "\n",
    "characterListPath = config['JSONPath']['CharacterList']\n",
    "CharacterUpgradeItemListPath = config['JSONPath']['CharacterUpgradeItemList']\n",
    "CharacterTotalUpgradeItemListPath = config['JSONPath']['CharacterTotalUpgradeItemList']"
   ]
  },
  {
   "cell_type": "markdown",
   "id": "2399bf39",
   "metadata": {},
   "source": [
    "# UpdateData"
   ]
  },
  {
   "cell_type": "markdown",
   "id": "387a1f2d",
   "metadata": {},
   "source": [
    "## Step.1 取得角色清單"
   ]
  },
  {
   "cell_type": "code",
   "execution_count": null,
   "id": "5479297b",
   "metadata": {},
   "outputs": [],
   "source": [
    "UpdateTool.GenCharacterList(characterListUrl, characterDataBaseUrl, characterListPath)\n",
    "# Other 彙整升級素材\n"
   ]
  },
  {
   "cell_type": "markdown",
   "id": "06a5f372",
   "metadata": {},
   "source": [
    "## Step.2 取得升級素材清單"
   ]
  },
  {
   "cell_type": "code",
   "execution_count": null,
   "id": "fb18ea0f",
   "metadata": {},
   "outputs": [],
   "source": [
    "UpdateTool.GenCharacterUpgradeItemList(characterListPath, CharacterUpgradeItemListPath)"
   ]
  },
  {
   "cell_type": "markdown",
   "id": "f55cc5d5",
   "metadata": {},
   "source": [
    "# Organize"
   ]
  },
  {
   "cell_type": "markdown",
   "id": "22929b7b",
   "metadata": {},
   "source": [
    "## 彙整升級素材"
   ]
  },
  {
   "cell_type": "code",
   "execution_count": 13,
   "id": "f6960397",
   "metadata": {},
   "outputs": [],
   "source": [
    "DataTool.GenTotalUpgradeItemList(CharacterUpgradeItemListPath, CharacterTotalUpgradeItemListPath)"
   ]
  }
 ],
 "metadata": {
  "kernelspec": {
   "display_name": "Python 3",
   "language": "python",
   "name": "python3"
  },
  "language_info": {
   "codemirror_mode": {
    "name": "ipython",
    "version": 3
   },
   "file_extension": ".py",
   "mimetype": "text/x-python",
   "name": "python",
   "nbconvert_exporter": "python",
   "pygments_lexer": "ipython3",
   "version": "3.12.4"
  }
 },
 "nbformat": 4,
 "nbformat_minor": 5
}
