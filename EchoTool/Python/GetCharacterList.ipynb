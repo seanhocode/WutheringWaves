{
 "cells": [
  {
   "cell_type": "code",
   "execution_count": 143,
   "id": "c2f67ec7-8988-4348-81fa-ac50eee9df04",
   "metadata": {},
   "outputs": [],
   "source": [
    "import requests\n",
    "import json\n",
    "import re\n",
    "from bs4 import BeautifulSoup\n",
    "import wikitextparser as wtp"
   ]
  },
  {
   "cell_type": "code",
   "execution_count": 144,
   "id": "c6916bb8-8415-4206-8813-1fe930c0345c",
   "metadata": {},
   "outputs": [],
   "source": [
    "# Fandom API 網址\n",
    "API_URL = \"https://wutheringwaves.fandom.com/api.php\""
   ]
  },
  {
   "cell_type": "code",
   "execution_count": 145,
   "id": "a59734cc-b806-424a-b123-9b83b6a8a49e",
   "metadata": {},
   "outputs": [],
   "source": [
    "# 取得所有可操作角色 (Playable Resonators)\n",
    "def GetCharacterList():\n",
    "    params = {\n",
    "        \"action\": \"query\",\n",
    "        \"list\": \"categorymembers\",\n",
    "        \"cmtitle\": \"Category:Echo_Stats\",\n",
    "        \"cmlimit\": \"100\",  # 限制最多 100 個角色\n",
    "        \"format\": \"json\"\n",
    "    }\n",
    "    response = requests.get(API_URL, params = params)\n",
    "    data = response.json()\n",
    "    \n",
    "    # 解析角色名稱列表\n",
    "    characters = [char[\"title\"] for char in data[\"query\"][\"categorymembers\"]]\n",
    "    return characters"
   ]
  },
  {
   "cell_type": "code",
   "execution_count": 146,
   "id": "d6d33114",
   "metadata": {},
   "outputs": [],
   "source": [
    "# 取得單個角色的詳細 Wiki 內容\n",
    "def GetCharacterData(characterName):\n",
    "    params = {\n",
    "        \"action\": \"query\",\n",
    "        \"titles\": characterName,\n",
    "        \"prop\": \"revisions\",\n",
    "        \"rvprop\": \"content\",\n",
    "        \"format\": \"json\"\n",
    "    }\n",
    "    response = requests.get(API_URL, params = params)\n",
    "    data = response.json()\n",
    "    \n",
    "    # 取得 wikitext 內容\n",
    "    pages = data[\"query\"][\"pages\"]\n",
    "    pageContent = next(iter(pages.values()))[\"revisions\"][0][\"*\"]\n",
    "    \n",
    "    return pageContent"
   ]
  },
  {
   "cell_type": "code",
   "execution_count": 147,
   "id": "979f6b7e",
   "metadata": {},
   "outputs": [],
   "source": [
    "def CharacterMain():\n",
    "    characters = GetCharacterList()\n",
    "    #print(f\"找到 {len(characters)} 位角色：\", characters)\n",
    "\n",
    "    allCharacterData = []\n",
    "    \n",
    "    for character in characters:\n",
    "        #print(f\"正在處理角色：{character} ...\")\n",
    "        \n",
    "        # 獲取角色詳細資訊\n",
    "        wikiText = GetCharacterData(character)\n",
    "        \n",
    "        # 解析成 JSON\n",
    "        characterInfo = DecodingWikiText(wikiText)\n",
    "        allCharacterData.append(characterInfo)\n",
    "    \n",
    "    #print(\"\\n角色資訊整理完成！\")\n",
    "    print(allCharacterData)"
   ]
  },
  {
   "cell_type": "code",
   "execution_count": 148,
   "id": "8f1c24b3",
   "metadata": {},
   "outputs": [],
   "source": [
    "def GetEchoStats():\n",
    "    params = {\n",
    "        \"action\": \"query\",\n",
    "        \"format\": \"json\",\n",
    "        \"prop\": \"revisions\",\n",
    "        \"titles\": \"Echoes/Stats\",\n",
    "        \"rvprop\": \"content\"\n",
    "    }\n",
    "    response = requests.get(API_URL, params=params)\n",
    "    data = response.json()\n",
    "\n",
    "    pages = data[\"query\"][\"pages\"]\n",
    "    pageContent = next(iter(pages.values()))[\"revisions\"][0][\"*\"]\n",
    "    \n",
    "    return pageContent"
   ]
  },
  {
   "cell_type": "code",
   "execution_count": 149,
   "id": "14d8d887",
   "metadata": {},
   "outputs": [],
   "source": [
    "def EchoMain():\n",
    "    echoStats = GetEchoStats()\n",
    "    #print(f\"找到 {len(characters)} 位角色：\", characters)\n",
    "\n",
    "    echoData = wtp.parse(echoStats)\n",
    "    \n",
    "    #echoDataJson = json.loads(echoData)\n",
    "\n",
    "    #echoData = ParseWikiText(echoStats[\"Detailed substat values distribution\"])\n",
    "    \n",
    "    print(json.dumps(echoData.tables[3].data(), indent=4, ensure_ascii=False))\n"
   ]
  },
  {
   "cell_type": "code",
   "execution_count": 150,
   "id": "d0981c79-c1ff-4ce1-a17b-acc4b2adf0ae",
   "metadata": {},
   "outputs": [
    {
     "name": "stdout",
     "output_type": "stream",
     "text": [
      "[\n",
      "    [\n",
      "        \"'''Substat'''\",\n",
      "        \"'''Value1'''\",\n",
      "        \"'''Value2'''\",\n",
      "        \"'''Value3'''\",\n",
      "        \"'''Value4'''\"\n",
      "    ],\n",
      "    [\n",
      "        \"[[ATK]]\",\n",
      "        \"30\",\n",
      "        \"40\",\n",
      "        \"50\",\n",
      "        \"60\"\n",
      "    ],\n",
      "    [\n",
      "        \"[[DEF]]\",\n",
      "        \"40\",\n",
      "        \"50\",\n",
      "        \"60\",\n",
      "        \"70\"\n",
      "    ],\n",
      "    [\n",
      "        \"'''Chance to roll'''\",\n",
      "        \"12.43%\",\n",
      "        \"46.21%\",\n",
      "        \"38.57%\",\n",
      "        \"2.79%\"\n",
      "    ]\n",
      "]\n"
     ]
    }
   ],
   "source": [
    "if __name__ == \"__main__\":\n",
    "    EchoMain()"
   ]
  },
  {
   "cell_type": "code",
   "execution_count": null,
   "id": "727ce32e",
   "metadata": {},
   "outputs": [],
   "source": []
  }
 ],
 "metadata": {
  "kernelspec": {
   "display_name": "WutheringWaves",
   "language": "python",
   "name": "python3"
  },
  "language_info": {
   "codemirror_mode": {
    "name": "ipython",
    "version": 3
   },
   "file_extension": ".py",
   "mimetype": "text/x-python",
   "name": "python",
   "nbconvert_exporter": "python",
   "pygments_lexer": "ipython3",
   "version": "3.12.9"
  }
 },
 "nbformat": 4,
 "nbformat_minor": 5
}
