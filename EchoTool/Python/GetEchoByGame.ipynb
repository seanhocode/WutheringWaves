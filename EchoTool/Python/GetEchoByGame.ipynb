{
 "cells": [
  {
   "cell_type": "code",
   "execution_count": 34,
   "id": "c2f67ec7-8988-4348-81fa-ac50eee9df04",
   "metadata": {},
   "outputs": [],
   "source": [
    "import cv2\n",
    "import numpy as np\n",
    "import mss\n",
    "import time"
   ]
  },
  {
   "cell_type": "code",
   "execution_count": 35,
   "id": "bce075ab",
   "metadata": {},
   "outputs": [],
   "source": [
    "def capture_screen():\n",
    "    cv2.namedWindow(\"Game Capture\", cv2.WINDOW_NORMAL)  # 允許視窗縮放\n",
    "    #cv2.resizeWindow(\"Game Capture\", 800, 600)  # 設定視窗大小\n",
    "\n",
    "    with mss.mss() as sct:\n",
    "        monitor = sct.monitors[1]  # 擷取主螢幕（可改成特定區域）\n",
    "        # monitor = {\"top\": 100, \"left\": 200, \"width\": 500, \"height\": 300}特定範圍（裝備欄位置）\n",
    "        \n",
    "        \n",
    "        while True:\n",
    "            start_time = time.time()\n",
    "            \n",
    "            # 擷取畫面\n",
    "            screenshot = sct.grab(monitor)\n",
    "            \n",
    "            # 轉換成 OpenCV 格式\n",
    "            img = np.array(screenshot)\n",
    "            img = cv2.cvtColor(img, cv2.COLOR_BGRA2BGR)\n",
    "            \n",
    "            # 顯示畫面\n",
    "            cv2.imshow(\"Game Capture\", img)\n",
    "\n",
    "            # 按 Q 結束\n",
    "            if cv2.waitKey(1) & 0xFF == ord(\"q\"):\n",
    "                break\n",
    "\n",
    "            #print(f\"FPS: {1 / (time.time() - start_time):.2f}\")\n",
    "\n",
    "    cv2.destroyAllWindows()"
   ]
  },
  {
   "cell_type": "code",
   "execution_count": 36,
   "id": "0afc5948",
   "metadata": {},
   "outputs": [],
   "source": [
    "capture_screen()"
   ]
  }
 ],
 "metadata": {
  "kernelspec": {
   "display_name": "WutheringWaves",
   "language": "python",
   "name": "python3"
  },
  "language_info": {
   "codemirror_mode": {
    "name": "ipython",
    "version": 3
   },
   "file_extension": ".py",
   "mimetype": "text/x-python",
   "name": "python",
   "nbconvert_exporter": "python",
   "pygments_lexer": "ipython3",
   "version": "3.12.9"
  }
 },
 "nbformat": 4,
 "nbformat_minor": 5
}
