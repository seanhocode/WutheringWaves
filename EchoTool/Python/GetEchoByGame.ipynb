{
 "cells": [
  {
   "cell_type": "code",
   "execution_count": 46,
   "id": "c2f67ec7-8988-4348-81fa-ac50eee9df04",
   "metadata": {},
   "outputs": [],
   "source": [
    "import cv2\n",
    "import numpy as np\n",
    "import mss\n",
    "import time\n",
    "import pytesseract\n",
    "pytesseract.pytesseract.tesseract_cmd = r\"C:\\Program Files\\Tesseract-OCR\\tesseract.exe\""
   ]
  },
  {
   "cell_type": "code",
   "execution_count": 47,
   "id": "857d28e3",
   "metadata": {},
   "outputs": [],
   "source": [
    "def processImage(img):\n",
    "    #img = cv2.cvtColor(img, cv2.COLOR_BGRA2BGR)# 彩色\n",
    "    # 圖片轉換成灰階色彩\n",
    "    gray = cv2.cvtColor(img, cv2.COLOR_BGR2GRAY); \n",
    "\n",
    "    # 使用 CLAHE 增強對比度\n",
    "    clahe = cv2.createCLAHE(clipLimit=3.0, tileGridSize=(8,8))\n",
    "    enhanced = clahe.apply(gray)\n",
    "\n",
    "    # 模糊化\n",
    "    # output = cv2.medianBlur(output, 5)\n",
    "\n",
    "    # 降低雜訊\n",
    "    blur = cv2.GaussianBlur(enhanced, (3, 3), 0)\n",
    "\n",
    "    #自適應二值化\n",
    "    #binary = cv2.adaptiveThreshold(blur, 255, cv2.ADAPTIVE_THRESH_GAUSSIAN_C, cv2.THRESH_BINARY, 11, 2)\n",
    "    _, binary = cv2.threshold(blur, 0, 255, cv2.THRESH_BINARY_INV + cv2.THRESH_OTSU)\n",
    "\n",
    "    return binary"
   ]
  },
  {
   "cell_type": "code",
   "execution_count": 48,
   "id": "2e8dc14f",
   "metadata": {},
   "outputs": [],
   "source": [
    "def recognizeText(img):\n",
    "    customConfig = r'--oem 2 --psm 3'  # 文字辨識模式\n",
    "    text = pytesseract.image_to_string(img, config = customConfig, lang = \"chi_tra\")\n",
    "    return text.strip()"
   ]
  },
  {
   "cell_type": "code",
   "execution_count": 49,
   "id": "bce075ab",
   "metadata": {},
   "outputs": [],
   "source": [
    "def captureScreen():\n",
    "    cv2.namedWindow(\"Game Capture\")  # 允許視窗縮放\n",
    "    #cv2.resizeWindow(\"Game Capture\", 800, 600)  # 設定視窗大小\n",
    "\n",
    "    with mss.mss() as sct:\n",
    "        monitor = sct.monitors[1]  # 擷取主螢幕（可改成特定區域）\n",
    "        screenWidth = monitor[\"width\"]\n",
    "        screenHeight = monitor[\"height\"]\n",
    "        # 設定擷取區域（右側 1/5）\n",
    "        captureWidth = screenWidth // 3\n",
    "        region = {\n",
    "            \"left\": 1890,\n",
    "            \"top\": 195,\n",
    "            \"width\": 300,\n",
    "            \"height\": 45\n",
    "        }\n",
    "        \n",
    "        \n",
    "        while True:\n",
    "            #start_time = time.time()\n",
    "            \n",
    "            # 擷取畫面\n",
    "            screenshot = sct.grab(region)\n",
    "\n",
    "            # 轉換成 OpenCV 格式\n",
    "            img = np.array(screenshot)\n",
    "\n",
    "            # 影像處理\n",
    "            processedImg = processImage(img)\n",
    "\n",
    "            # OCR 文字辨識\n",
    "            #recognizedText = recognizeText(processedImg)\n",
    "\n",
    "            # 顯示辨識結果\n",
    "            #print(\"辨識結果:\", recognizedText)\n",
    "            \n",
    "            # 顯示畫面\n",
    "            cv2.imshow(\"Game Capture\", processedImg)\n",
    "\n",
    "            # 按 Q 結束\n",
    "            if cv2.waitKey(1) & 0xFF == ord(\"q\"):\n",
    "                break\n",
    "\n",
    "            #print(f\"FPS: {1 / (time.time() - start_time):.2f}\")\n",
    "\n",
    "    cv2.destroyAllWindows()"
   ]
  },
  {
   "cell_type": "code",
   "execution_count": 50,
   "id": "0afc5948",
   "metadata": {},
   "outputs": [],
   "source": [
    "captureScreen()"
   ]
  }
 ],
 "metadata": {
  "kernelspec": {
   "display_name": "WutheringWaves",
   "language": "python",
   "name": "python3"
  },
  "language_info": {
   "codemirror_mode": {
    "name": "ipython",
    "version": 3
   },
   "file_extension": ".py",
   "mimetype": "text/x-python",
   "name": "python",
   "nbconvert_exporter": "python",
   "pygments_lexer": "ipython3",
   "version": "3.12.9"
  }
 },
 "nbformat": 4,
 "nbformat_minor": 5
}
